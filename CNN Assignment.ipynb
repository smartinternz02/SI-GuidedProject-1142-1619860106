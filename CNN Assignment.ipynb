{
 "cells": [
  {
   "cell_type": "code",
   "execution_count": 2,
   "metadata": {},
   "outputs": [],
   "source": [
    "from tensorflow.keras.models import Sequential\n",
    "from tensorflow.keras.layers import Dense\n",
    "from tensorflow.keras.layers import Convolution2D\n",
    "from tensorflow.keras.layers import MaxPooling2D\n",
    "from tensorflow.keras.layers import Flatten"
   ]
  },
  {
   "cell_type": "code",
   "execution_count": 3,
   "metadata": {},
   "outputs": [
    {
     "name": "stderr",
     "output_type": "stream",
     "text": [
      "Using TensorFlow backend.\n"
     ]
    }
   ],
   "source": [
    "from keras.preprocessing.image import ImageDataGenerator\n",
    "train_datagen = ImageDataGenerator(rescale = 1./255,shear_range = 0.2,zoom_range = 0.2,horizontal_flip = True)\n",
    "test_datagen = ImageDataGenerator(rescale = 1./255)"
   ]
  },
  {
   "cell_type": "code",
   "execution_count": 4,
   "metadata": {},
   "outputs": [
    {
     "name": "stdout",
     "output_type": "stream",
     "text": [
      "Found 100 images belonging to 5 classes.\n",
      "Found 50 images belonging to 5 classes.\n"
     ]
    }
   ],
   "source": [
    "x_train = train_datagen.flow_from_directory(r\"C:\\Users\\saiha\\Desktop\\imagAssign\\things data\\trainset\",target_size = (64,64),batch_size = 32,class_mode = \"categorical\")\n",
    "x_test = test_datagen.flow_from_directory(r\"C:\\Users\\saiha\\Desktop\\imagAssign\\things data\\testset\",target_size = (64,64),batch_size = 32,class_mode = \"categorical\")"
   ]
  },
  {
   "cell_type": "code",
   "execution_count": 5,
   "metadata": {},
   "outputs": [],
   "source": [
    "model = Sequential()"
   ]
  },
  {
   "cell_type": "code",
   "execution_count": 6,
   "metadata": {},
   "outputs": [],
   "source": [
    "model.add(Convolution2D(32,(3,3),input_shape = (64,64,3),activation = \"relu\"))"
   ]
  },
  {
   "cell_type": "code",
   "execution_count": 7,
   "metadata": {},
   "outputs": [],
   "source": [
    "model.add(MaxPooling2D(2,2))"
   ]
  },
  {
   "cell_type": "code",
   "execution_count": 8,
   "metadata": {},
   "outputs": [],
   "source": [
    "model.add(Flatten())"
   ]
  },
  {
   "cell_type": "code",
   "execution_count": 9,
   "metadata": {},
   "outputs": [],
   "source": [
    "model.add(Dense(units = 512,activation = \"relu\",kernel_initializer = \"random_uniform\"))"
   ]
  },
  {
   "cell_type": "code",
   "execution_count": 10,
   "metadata": {},
   "outputs": [],
   "source": [
    "model.add(Dense(units = 5,activation = \"softmax\",kernel_initializer = \"random_uniform\"))"
   ]
  },
  {
   "cell_type": "code",
   "execution_count": 11,
   "metadata": {},
   "outputs": [],
   "source": [
    "model.compile(\"sgd\",loss = \"categorical_crossentropy\",metrics = [\"accuracy\"])"
   ]
  },
  {
   "cell_type": "code",
   "execution_count": 16,
   "metadata": {},
   "outputs": [
    {
     "name": "stdout",
     "output_type": "stream",
     "text": [
      "Epoch 1/30\n",
      "3/3 [==============================] - ETA: 0s - loss: 1.5207 - accuracy: 0.3824WARNING:tensorflow:Your input ran out of data; interrupting training. Make sure that your dataset or generator can generate at least `steps_per_epoch * epochs` batches (in this case, 20 batches). You may need to use the repeat() function when building your dataset.\n",
      "3/3 [==============================] - 1s 453ms/step - loss: 1.5207 - accuracy: 0.3824 - val_loss: 1.5238 - val_accuracy: 0.2400\n",
      "Epoch 2/30\n",
      "3/3 [==============================] - 1s 277ms/step - loss: 1.5586 - accuracy: 0.2500\n",
      "Epoch 3/30\n",
      "3/3 [==============================] - 1s 360ms/step - loss: 1.5156 - accuracy: 0.3088\n",
      "Epoch 4/30\n",
      "3/3 [==============================] - 1s 294ms/step - loss: 1.5386 - accuracy: 0.2647\n",
      "Epoch 5/30\n",
      "3/3 [==============================] - 1s 308ms/step - loss: 1.6386 - accuracy: 0.1912\n",
      "Epoch 6/30\n",
      "3/3 [==============================] - 1s 347ms/step - loss: 1.5626 - accuracy: 0.2647\n",
      "Epoch 7/30\n",
      "3/3 [==============================] - 1s 277ms/step - loss: 1.5672 - accuracy: 0.2083\n",
      "Epoch 8/30\n",
      "3/3 [==============================] - 1s 300ms/step - loss: 1.4287 - accuracy: 0.5588\n",
      "Epoch 9/30\n",
      "3/3 [==============================] - 1s 258ms/step - loss: 1.4866 - accuracy: 0.3021\n",
      "Epoch 10/30\n",
      "3/3 [==============================] - 1s 244ms/step - loss: 1.5200 - accuracy: 0.3529\n",
      "Epoch 11/30\n",
      "3/3 [==============================] - 1s 284ms/step - loss: 1.4460 - accuracy: 0.5000\n",
      "Epoch 12/30\n",
      "3/3 [==============================] - 1s 240ms/step - loss: 1.4862 - accuracy: 0.4412\n",
      "Epoch 13/30\n",
      "3/3 [==============================] - 1s 266ms/step - loss: 1.4133 - accuracy: 0.4479\n",
      "Epoch 14/30\n",
      "3/3 [==============================] - 1s 287ms/step - loss: 1.4064 - accuracy: 0.3676\n",
      "Epoch 15/30\n",
      "3/3 [==============================] - 1s 262ms/step - loss: 1.5351 - accuracy: 0.3750\n",
      "Epoch 16/30\n",
      "3/3 [==============================] - 1s 267ms/step - loss: 1.4278 - accuracy: 0.4412\n",
      "Epoch 17/30\n",
      "3/3 [==============================] - 1s 237ms/step - loss: 1.3766 - accuracy: 0.4062\n",
      "Epoch 18/30\n",
      "3/3 [==============================] - 1s 289ms/step - loss: 1.4208 - accuracy: 0.4706\n",
      "Epoch 19/30\n",
      "3/3 [==============================] - 1s 296ms/step - loss: 1.3501 - accuracy: 0.4271\n",
      "Epoch 20/30\n",
      "3/3 [==============================] - 1s 300ms/step - loss: 1.3242 - accuracy: 0.5735\n",
      "Epoch 21/30\n",
      "3/3 [==============================] - 1s 256ms/step - loss: 1.4217 - accuracy: 0.2941\n",
      "Epoch 22/30\n",
      "3/3 [==============================] - 1s 291ms/step - loss: 1.3478 - accuracy: 0.4412\n",
      "Epoch 23/30\n",
      "3/3 [==============================] - 1s 288ms/step - loss: 1.2274 - accuracy: 0.5000\n",
      "Epoch 24/30\n",
      "3/3 [==============================] - 1s 263ms/step - loss: 1.2476 - accuracy: 0.5441\n",
      "Epoch 25/30\n",
      "3/3 [==============================] - 1s 293ms/step - loss: 1.2425 - accuracy: 0.4559\n",
      "Epoch 26/30\n",
      "3/3 [==============================] - 1s 225ms/step - loss: 1.3134 - accuracy: 0.4706\n",
      "Epoch 27/30\n",
      "3/3 [==============================] - 1s 283ms/step - loss: 1.1898 - accuracy: 0.5938\n",
      "Epoch 28/30\n",
      "3/3 [==============================] - 1s 245ms/step - loss: 1.2667 - accuracy: 0.5208\n",
      "Epoch 29/30\n",
      "3/3 [==============================] - 1s 269ms/step - loss: 1.1656 - accuracy: 0.6146\n",
      "Epoch 30/30\n",
      "3/3 [==============================] - 1s 245ms/step - loss: 1.5070 - accuracy: 0.4412\n"
     ]
    },
    {
     "data": {
      "text/plain": [
       "<tensorflow.python.keras.callbacks.History at 0x252f20572b0>"
      ]
     },
     "execution_count": 16,
     "metadata": {},
     "output_type": "execute_result"
    }
   ],
   "source": [
    "model.fit_generator(x_train,steps_per_epoch =3,epochs = 30,validation_data = x_test,validation_steps = 20)"
   ]
  },
  {
   "cell_type": "code",
   "execution_count": 17,
   "metadata": {},
   "outputs": [],
   "source": [
    "model.save(\"things.h5\")"
   ]
  },
  {
   "cell_type": "code",
   "execution_count": null,
   "metadata": {},
   "outputs": [],
   "source": []
  }
 ],
 "metadata": {
  "kernelspec": {
   "display_name": "Python 3",
   "language": "python",
   "name": "python3"
  },
  "language_info": {
   "codemirror_mode": {
    "name": "ipython",
    "version": 3
   },
   "file_extension": ".py",
   "mimetype": "text/x-python",
   "name": "python",
   "nbconvert_exporter": "python",
   "pygments_lexer": "ipython3",
   "version": "3.7.3"
  }
 },
 "nbformat": 4,
 "nbformat_minor": 2
}
